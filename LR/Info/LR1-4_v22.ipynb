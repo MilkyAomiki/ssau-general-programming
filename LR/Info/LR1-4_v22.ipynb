{
 "cells": [
  {
   "cell_type": "markdown",
   "metadata": {},
   "source": [
    "Александр Афанасенко, 6101\n",
    "\n",
    "### Вариант 22"
   ]
  },
  {
   "cell_type": "markdown",
   "metadata": {},
   "source": [
    "##### ЛР 1. Скатерть Улама и треугольник Клаубера.\n",
    "\n",
    "Программа должна определять, сколько простых чисел содержится\n",
    "среди заданного количества начальных элементов последовательности\n",
    "*an = n (n – 1) + k* для заданного *k*. Простое число – это натуральное\n",
    "число, имеющее ровно два различных натуральных делителя.\n",
    "Элементы последовательности нумеруются с единицы.\n",
    "**Входные данные**. Целое положительное число *k* и количество\n",
    "элементов последовательности, которые нужно проверить.\n",
    "**Выходные данные**. Количество элементов последовательности"
   ]
  },
  {
   "cell_type": "code",
   "execution_count": 6,
   "metadata": {},
   "outputs": [
    {
     "name": "stdout",
     "output_type": "stream",
     "text": [
      "Here you go: True\n"
     ]
    }
   ],
   "source": [
    "def is_prime(number):\n",
    "    if number == 0 or number == 1\n",
    "        return False\n",
    "\n",
    "    isDivisibleByAny = False\n",
    "    for n in range(2, number):\n",
    "        if number % n == 0:\n",
    "            isDivisibleByAny = True\n",
    "\n",
    "    return not isDivisibleByAny\n",
    "    \n",
    "def calc_sequence_element(n, k):\n",
    "    return n*(n - 1) + k\n",
    "\n",
    "k = int(input('Enter k: '))\n",
    "#max_n = int(input('Enter n: '))\n",
    "\n",
    "print('Here you go: ' + str(is_prime(k)))"
   ]
  },
  {
   "cell_type": "markdown",
   "metadata": {},
   "source": []
  }
 ],
 "metadata": {
  "kernelspec": {
   "display_name": "Python 3",
   "language": "python",
   "name": "python3"
  },
  "language_info": {
   "codemirror_mode": {
    "name": "ipython",
    "version": 3
   },
   "file_extension": ".py",
   "mimetype": "text/x-python",
   "name": "python",
   "nbconvert_exporter": "python",
   "pygments_lexer": "ipython3",
   "version": "3.11.6"
  }
 },
 "nbformat": 4,
 "nbformat_minor": 2
}
